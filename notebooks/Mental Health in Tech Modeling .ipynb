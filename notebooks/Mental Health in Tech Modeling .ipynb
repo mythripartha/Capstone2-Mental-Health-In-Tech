{
 "cells": [
  {
   "cell_type": "markdown",
   "metadata": {},
   "source": [
    "# 1. Mental Health in the Tech Industry: Modeling\n",
    "\n",
    "## Introduction\n",
    "\n",
    "### Problem:\n",
    "\n",
    "The goal of this project is to analyze a survey taken by those working in the technology industry and see who goes to therapy most and how they deal with their mental health. I want to see which machine learning model best represents the data and could possibly predict who seeks therapy based on whether or not their mental state interfered with their work, their age, whether or not they discussed their mental health with their employer, or if they had family history of mental illness\n",
    "I am going to construct several models, look at their classification report, and try to tune hyperparameters to see which machine learning model would work best.\n",
    "\n",
    "## Data:\n",
    "\n",
    "The dataset I am using is a survey conducted in 2014 on people in the tech industry all over the world\n",
    "https://www.kaggle.com/osmi/mental-health-in-tech-survey\n",
    "\n",
    "Below are the columns in the dataframe and what they mean\n",
    "\n",
    "    intereference_never: the participant's mental health does not interfere with their progress at work\n",
    "    intereference_often: the participant's mental health interferes with their progress at work regularly\n",
    "    intereference_rarely: the participant's mental health rarely interferes with their progress at work\n",
    "    intereference_rarely: the participant's mental health sometimes interferes with their progress at work\n",
    "    ment_health_cons_maybe: the participant fears that consulting with a supervisor/boss about their mental health might have negative consequences\n",
    "    ment_health_cons_no: the participant does not fear that consulting with a supervisor/boss about their mental health will have negative consequences\n",
    "    ment_health_cons_yes: the participant fears that consulting with a supervisor/boss about their mental health will have negative consequences\n",
    "    no_family_history: the participant does not have any history of mental illness in their family\n",
    "    family_history_yes: the participant has a history of mental illness in their family\n",
    "    no_treatment: the participant does not seek mental health treatment/therapy\n",
    "    yes_treatment: the participant has sought out mental health treatment/therapy\n",
    "\n",
    "## Previous Modules\n",
    "    Data Wrangling: https://github.com/mythripartha/Capstone2-Mental-Health-In-Tech/blob/main/notebooks/Mental_health_in_tech_data_wangling.ipynb\n",
    "    EDA: https://github.com/mythripartha/Capstone2-Mental-Health-In-Tech/blob/main/notebooks/Mental_health_in_tech_EDA.ipynb\n",
    "    Pre-Processing: https://github.com/mythripartha/Capstone2-Mental-Health-In-Tech/blob/main/notebooks/Mental_health_in_tech_Pre-Processing.ipynb"
   ]
  },
  {
   "cell_type": "code",
   "execution_count": 1,
   "metadata": {},
   "outputs": [],
   "source": [
    "import os\n",
    "import math \n",
    "import numpy as np\n",
    "import pandas as pd\n",
    "import matplotlib.pyplot as plt\n",
    "import seaborn as sns\n",
    "import pickle\n",
    "from sklearn.metrics import accuracy_score, classification_report, confusion_matrix, roc_curve, auc, roc_auc_score\n",
    "from sklearn.model_selection import KFold\n",
    "from sklearn import preprocessing"
   ]
  },
  {
   "cell_type": "code",
   "execution_count": 2,
   "metadata": {},
   "outputs": [],
   "source": [
    "#ignore warnings\n",
    "import warnings\n",
    "warnings.filterwarnings('ignore')"
   ]
  },
  {
   "cell_type": "code",
   "execution_count": 3,
   "metadata": {},
   "outputs": [
    {
     "data": {
      "text/html": [
       "<div>\n",
       "<style scoped>\n",
       "    .dataframe tbody tr th:only-of-type {\n",
       "        vertical-align: middle;\n",
       "    }\n",
       "\n",
       "    .dataframe tbody tr th {\n",
       "        vertical-align: top;\n",
       "    }\n",
       "\n",
       "    .dataframe thead th {\n",
       "        text-align: right;\n",
       "    }\n",
       "</style>\n",
       "<table border=\"1\" class=\"dataframe\">\n",
       "  <thead>\n",
       "    <tr style=\"text-align: right;\">\n",
       "      <th></th>\n",
       "      <th>Unnamed: 0</th>\n",
       "      <th>Unnamed: 0.1</th>\n",
       "      <th>Unnamed: 0.1.1</th>\n",
       "      <th>Age</th>\n",
       "      <th>Female</th>\n",
       "      <th>Male</th>\n",
       "      <th>interference_never</th>\n",
       "      <th>interference_often</th>\n",
       "      <th>interference_rarely</th>\n",
       "      <th>interference_sometimes</th>\n",
       "      <th>ment_health_cons_maybe</th>\n",
       "      <th>ment_health_cons_no</th>\n",
       "      <th>ment_health_cons_yes</th>\n",
       "      <th>no_family history</th>\n",
       "      <th>family_history_yes</th>\n",
       "      <th>no_treatment</th>\n",
       "      <th>yes_treatment</th>\n",
       "    </tr>\n",
       "  </thead>\n",
       "  <tbody>\n",
       "    <tr>\n",
       "      <th>0</th>\n",
       "      <td>0</td>\n",
       "      <td>0</td>\n",
       "      <td>0</td>\n",
       "      <td>37</td>\n",
       "      <td>1</td>\n",
       "      <td>0</td>\n",
       "      <td>0</td>\n",
       "      <td>1</td>\n",
       "      <td>0</td>\n",
       "      <td>0</td>\n",
       "      <td>0</td>\n",
       "      <td>1</td>\n",
       "      <td>0</td>\n",
       "      <td>1</td>\n",
       "      <td>0</td>\n",
       "      <td>0</td>\n",
       "      <td>1</td>\n",
       "    </tr>\n",
       "    <tr>\n",
       "      <th>1</th>\n",
       "      <td>1</td>\n",
       "      <td>3</td>\n",
       "      <td>3</td>\n",
       "      <td>31</td>\n",
       "      <td>0</td>\n",
       "      <td>1</td>\n",
       "      <td>0</td>\n",
       "      <td>1</td>\n",
       "      <td>0</td>\n",
       "      <td>0</td>\n",
       "      <td>0</td>\n",
       "      <td>0</td>\n",
       "      <td>1</td>\n",
       "      <td>0</td>\n",
       "      <td>1</td>\n",
       "      <td>0</td>\n",
       "      <td>1</td>\n",
       "    </tr>\n",
       "    <tr>\n",
       "      <th>2</th>\n",
       "      <td>2</td>\n",
       "      <td>6</td>\n",
       "      <td>6</td>\n",
       "      <td>35</td>\n",
       "      <td>1</td>\n",
       "      <td>0</td>\n",
       "      <td>0</td>\n",
       "      <td>0</td>\n",
       "      <td>0</td>\n",
       "      <td>1</td>\n",
       "      <td>1</td>\n",
       "      <td>0</td>\n",
       "      <td>0</td>\n",
       "      <td>0</td>\n",
       "      <td>1</td>\n",
       "      <td>0</td>\n",
       "      <td>1</td>\n",
       "    </tr>\n",
       "    <tr>\n",
       "      <th>3</th>\n",
       "      <td>3</td>\n",
       "      <td>7</td>\n",
       "      <td>7</td>\n",
       "      <td>39</td>\n",
       "      <td>0</td>\n",
       "      <td>1</td>\n",
       "      <td>1</td>\n",
       "      <td>0</td>\n",
       "      <td>0</td>\n",
       "      <td>0</td>\n",
       "      <td>0</td>\n",
       "      <td>1</td>\n",
       "      <td>0</td>\n",
       "      <td>1</td>\n",
       "      <td>0</td>\n",
       "      <td>1</td>\n",
       "      <td>0</td>\n",
       "    </tr>\n",
       "    <tr>\n",
       "      <th>4</th>\n",
       "      <td>4</td>\n",
       "      <td>8</td>\n",
       "      <td>8</td>\n",
       "      <td>42</td>\n",
       "      <td>1</td>\n",
       "      <td>0</td>\n",
       "      <td>0</td>\n",
       "      <td>0</td>\n",
       "      <td>0</td>\n",
       "      <td>1</td>\n",
       "      <td>1</td>\n",
       "      <td>0</td>\n",
       "      <td>0</td>\n",
       "      <td>0</td>\n",
       "      <td>1</td>\n",
       "      <td>0</td>\n",
       "      <td>1</td>\n",
       "    </tr>\n",
       "  </tbody>\n",
       "</table>\n",
       "</div>"
      ],
      "text/plain": [
       "   Unnamed: 0  Unnamed: 0.1  Unnamed: 0.1.1  Age  Female  Male  \\\n",
       "0           0             0               0   37       1     0   \n",
       "1           1             3               3   31       0     1   \n",
       "2           2             6               6   35       1     0   \n",
       "3           3             7               7   39       0     1   \n",
       "4           4             8               8   42       1     0   \n",
       "\n",
       "   interference_never  interference_often  interference_rarely  \\\n",
       "0                   0                   1                    0   \n",
       "1                   0                   1                    0   \n",
       "2                   0                   0                    0   \n",
       "3                   1                   0                    0   \n",
       "4                   0                   0                    0   \n",
       "\n",
       "   interference_sometimes  ment_health_cons_maybe  ment_health_cons_no  \\\n",
       "0                       0                       0                    1   \n",
       "1                       0                       0                    0   \n",
       "2                       1                       1                    0   \n",
       "3                       0                       0                    1   \n",
       "4                       1                       1                    0   \n",
       "\n",
       "   ment_health_cons_yes  no_family history  family_history_yes  no_treatment  \\\n",
       "0                     0                  1                   0             0   \n",
       "1                     1                  0                   1             0   \n",
       "2                     0                  0                   1             0   \n",
       "3                     0                  1                   0             1   \n",
       "4                     0                  0                   1             0   \n",
       "\n",
       "   yes_treatment  \n",
       "0              1  \n",
       "1              1  \n",
       "2              1  \n",
       "3              0  \n",
       "4              1  "
      ]
     },
     "execution_count": 3,
     "metadata": {},
     "output_type": "execute_result"
    }
   ],
   "source": [
    "df = pd.read_csv('../data/therapy_data_cleaned3.csv')\n",
    "df.head()"
   ]
  },
  {
   "cell_type": "code",
   "execution_count": 4,
   "metadata": {},
   "outputs": [],
   "source": [
    "drop_cols = ['Unnamed: 0', 'Unnamed: 0.1.1', 'Unnamed: 0.1']\n",
    "df = df.drop(drop_cols, axis=1)"
   ]
  },
  {
   "cell_type": "code",
   "execution_count": 5,
   "metadata": {},
   "outputs": [
    {
     "data": {
      "text/html": [
       "<div>\n",
       "<style scoped>\n",
       "    .dataframe tbody tr th:only-of-type {\n",
       "        vertical-align: middle;\n",
       "    }\n",
       "\n",
       "    .dataframe tbody tr th {\n",
       "        vertical-align: top;\n",
       "    }\n",
       "\n",
       "    .dataframe thead th {\n",
       "        text-align: right;\n",
       "    }\n",
       "</style>\n",
       "<table border=\"1\" class=\"dataframe\">\n",
       "  <thead>\n",
       "    <tr style=\"text-align: right;\">\n",
       "      <th></th>\n",
       "      <th>Age</th>\n",
       "      <th>Female</th>\n",
       "      <th>Male</th>\n",
       "      <th>interference_never</th>\n",
       "      <th>interference_often</th>\n",
       "      <th>interference_rarely</th>\n",
       "      <th>interference_sometimes</th>\n",
       "      <th>ment_health_cons_maybe</th>\n",
       "      <th>ment_health_cons_no</th>\n",
       "      <th>ment_health_cons_yes</th>\n",
       "      <th>no_family history</th>\n",
       "      <th>family_history_yes</th>\n",
       "      <th>no_treatment</th>\n",
       "      <th>yes_treatment</th>\n",
       "    </tr>\n",
       "  </thead>\n",
       "  <tbody>\n",
       "    <tr>\n",
       "      <th>0</th>\n",
       "      <td>37</td>\n",
       "      <td>1</td>\n",
       "      <td>0</td>\n",
       "      <td>0</td>\n",
       "      <td>1</td>\n",
       "      <td>0</td>\n",
       "      <td>0</td>\n",
       "      <td>0</td>\n",
       "      <td>1</td>\n",
       "      <td>0</td>\n",
       "      <td>1</td>\n",
       "      <td>0</td>\n",
       "      <td>0</td>\n",
       "      <td>1</td>\n",
       "    </tr>\n",
       "    <tr>\n",
       "      <th>1</th>\n",
       "      <td>31</td>\n",
       "      <td>0</td>\n",
       "      <td>1</td>\n",
       "      <td>0</td>\n",
       "      <td>1</td>\n",
       "      <td>0</td>\n",
       "      <td>0</td>\n",
       "      <td>0</td>\n",
       "      <td>0</td>\n",
       "      <td>1</td>\n",
       "      <td>0</td>\n",
       "      <td>1</td>\n",
       "      <td>0</td>\n",
       "      <td>1</td>\n",
       "    </tr>\n",
       "    <tr>\n",
       "      <th>2</th>\n",
       "      <td>35</td>\n",
       "      <td>1</td>\n",
       "      <td>0</td>\n",
       "      <td>0</td>\n",
       "      <td>0</td>\n",
       "      <td>0</td>\n",
       "      <td>1</td>\n",
       "      <td>1</td>\n",
       "      <td>0</td>\n",
       "      <td>0</td>\n",
       "      <td>0</td>\n",
       "      <td>1</td>\n",
       "      <td>0</td>\n",
       "      <td>1</td>\n",
       "    </tr>\n",
       "    <tr>\n",
       "      <th>3</th>\n",
       "      <td>39</td>\n",
       "      <td>0</td>\n",
       "      <td>1</td>\n",
       "      <td>1</td>\n",
       "      <td>0</td>\n",
       "      <td>0</td>\n",
       "      <td>0</td>\n",
       "      <td>0</td>\n",
       "      <td>1</td>\n",
       "      <td>0</td>\n",
       "      <td>1</td>\n",
       "      <td>0</td>\n",
       "      <td>1</td>\n",
       "      <td>0</td>\n",
       "    </tr>\n",
       "    <tr>\n",
       "      <th>4</th>\n",
       "      <td>42</td>\n",
       "      <td>1</td>\n",
       "      <td>0</td>\n",
       "      <td>0</td>\n",
       "      <td>0</td>\n",
       "      <td>0</td>\n",
       "      <td>1</td>\n",
       "      <td>1</td>\n",
       "      <td>0</td>\n",
       "      <td>0</td>\n",
       "      <td>0</td>\n",
       "      <td>1</td>\n",
       "      <td>0</td>\n",
       "      <td>1</td>\n",
       "    </tr>\n",
       "  </tbody>\n",
       "</table>\n",
       "</div>"
      ],
      "text/plain": [
       "   Age  Female  Male  interference_never  interference_often  \\\n",
       "0   37       1     0                   0                   1   \n",
       "1   31       0     1                   0                   1   \n",
       "2   35       1     0                   0                   0   \n",
       "3   39       0     1                   1                   0   \n",
       "4   42       1     0                   0                   0   \n",
       "\n",
       "   interference_rarely  interference_sometimes  ment_health_cons_maybe  \\\n",
       "0                    0                       0                       0   \n",
       "1                    0                       0                       0   \n",
       "2                    0                       1                       1   \n",
       "3                    0                       0                       0   \n",
       "4                    0                       1                       1   \n",
       "\n",
       "   ment_health_cons_no  ment_health_cons_yes  no_family history  \\\n",
       "0                    1                     0                  1   \n",
       "1                    0                     1                  0   \n",
       "2                    0                     0                  0   \n",
       "3                    1                     0                  1   \n",
       "4                    0                     0                  0   \n",
       "\n",
       "   family_history_yes  no_treatment  yes_treatment  \n",
       "0                   0             0              1  \n",
       "1                   1             0              1  \n",
       "2                   1             0              1  \n",
       "3                   0             1              0  \n",
       "4                   1             0              1  "
      ]
     },
     "execution_count": 5,
     "metadata": {},
     "output_type": "execute_result"
    }
   ],
   "source": [
    "df.head()"
   ]
  },
  {
   "cell_type": "markdown",
   "metadata": {},
   "source": [
    "# 2. Machine Learning methods\n",
    "1. I am going to start with a Train Test Split I completed in Pre-Processing to analyze who goes to therapy"
   ]
  },
  {
   "cell_type": "code",
   "execution_count": 6,
   "metadata": {},
   "outputs": [],
   "source": [
    "#import machine learning models\n",
    "from sklearn.model_selection import train_test_split\n",
    "from sklearn.model_selection import cross_val_score\n",
    "from sklearn.linear_model import LogisticRegression\n",
    "from sklearn.metrics import accuracy_score\n",
    "from sklearn.preprocessing import MinMaxScaler, StandardScaler, Normalizer"
   ]
  },
  {
   "cell_type": "markdown",
   "metadata": {},
   "source": [
    "I was going to open the pickle file for the train_test_split that was completed in the pre-processing step, then start modeling, but the training set was larger than the dataset itself, so I will recreate the training and testing sets based on those who go to therapy then I will work on different modeling techniques and compare them to see which one is the best"
   ]
  },
  {
   "cell_type": "code",
   "execution_count": 7,
   "metadata": {},
   "outputs": [],
   "source": [
    "X = df.drop(columns = ['yes_treatment', 'no_treatment'])\n",
    "y = df['yes_treatment']\n",
    "X_train, X_test, y_train, y_test = train_test_split(X, y, test_size = 0.1, random_state=42, stratify=y)"
   ]
  },
  {
   "cell_type": "code",
   "execution_count": 8,
   "metadata": {},
   "outputs": [],
   "source": [
    "scaler = StandardScaler()\n",
    "X_train = scaler.fit_transform(X_train)\n",
    "X_test = scaler.transform(X_test)"
   ]
  },
  {
   "cell_type": "markdown",
   "metadata": {},
   "source": [
    "Since X has the age column in it, we can scale the data to fit well for logistic regression, I am going to be using StandardScaler to do this. After the scaling is complete, I will complete the machine learning algorithms and check their regression and classification metrics to see how the models fare"
   ]
  },
  {
   "cell_type": "markdown",
   "metadata": {},
   "source": [
    "## 2a. Logistic Regression"
   ]
  },
  {
   "cell_type": "code",
   "execution_count": 9,
   "metadata": {},
   "outputs": [],
   "source": [
    "#logistic Regression\n",
    "logreg_train = LogisticRegression()\n",
    "logreg_train.fit(X_train, y_train)\n",
    "y_pred_train_logreg = logreg_train.predict(X_train)\n",
    "y_pred_test_logreg = logreg_train.predict(X_test)"
   ]
  },
  {
   "cell_type": "code",
   "execution_count": 10,
   "metadata": {},
   "outputs": [
    {
     "name": "stdout",
     "output_type": "stream",
     "text": [
      "The training accuracy is  0.8538812785388128 and the testing accuracy is  0.8775510204081632 when we complete a logistic regression of the data\n"
     ]
    }
   ],
   "source": [
    "#get accuracy for the logistic regression\n",
    "train_accuracy = accuracy_score(y_train, y_pred_train_logreg)\n",
    "test_accuracy = accuracy_score(y_test, y_pred_test_logreg)\n",
    "print('The training accuracy is ', train_accuracy,'and the testing accuracy is ', test_accuracy, 'when we complete a logistic regression of the data')"
   ]
  },
  {
   "cell_type": "code",
   "execution_count": 11,
   "metadata": {},
   "outputs": [
    {
     "name": "stdout",
     "output_type": "stream",
     "text": [
      "0.8690476190476191\n"
     ]
    }
   ],
   "source": [
    "lr_auc_roc = roc_auc_score(y_test, y_pred_test_logreg)\n",
    "print(lr_auc_roc)"
   ]
  },
  {
   "cell_type": "code",
   "execution_count": 12,
   "metadata": {},
   "outputs": [
    {
     "name": "stdout",
     "output_type": "stream",
     "text": [
      "              precision    recall  f1-score   support\n",
      "\n",
      "           0       0.89      0.81      0.85        21\n",
      "           1       0.87      0.93      0.90        28\n",
      "\n",
      "    accuracy                           0.88        49\n",
      "   macro avg       0.88      0.87      0.87        49\n",
      "weighted avg       0.88      0.88      0.88        49\n",
      "\n"
     ]
    }
   ],
   "source": [
    "classification_report_logreg = classification_report(y_test, y_pred_test_logreg)\n",
    "print(classification_report_logreg)"
   ]
  },
  {
   "cell_type": "code",
   "execution_count": 13,
   "metadata": {},
   "outputs": [],
   "source": [
    "from sklearn.metrics import precision_recall_fscore_support as score\n",
    "precision_lr, recall_lr, fscore_lr, support = score(y_test, y_pred_test_logreg, average='macro')"
   ]
  },
  {
   "cell_type": "code",
   "execution_count": 14,
   "metadata": {},
   "outputs": [
    {
     "name": "stdout",
     "output_type": "stream",
     "text": [
      "[[17  4]\n",
      " [ 2 26]]\n"
     ]
    }
   ],
   "source": [
    "#Logreg confusion matrix\n",
    "conf_matrix_lr = confusion_matrix(y_test, y_pred_test_logreg)\n",
    "print(conf_matrix_lr)"
   ]
  },
  {
   "cell_type": "code",
   "execution_count": 15,
   "metadata": {},
   "outputs": [
    {
     "name": "stdout",
     "output_type": "stream",
     "text": [
      "[0.875      0.91666667 0.875      0.68       1.        ]\n",
      "Testing Mean Cross Validation: 0.8693333333333333\n",
      "Training Mean Cross Validation: 0.8856877806599168\n",
      "Cross Validation Standard Deviation: 0.10509572356243192\n"
     ]
    }
   ],
   "source": [
    "#cross validation for logistic regression\n",
    "cv_score_test= cross_val_score(logreg_train, X_test, y_test,cv=5,scoring='roc_auc')\n",
    "cv_score_train= cross_val_score(logreg_train, X_train, y_train,cv=5,scoring='roc_auc')\n",
    "print(cv_score_test)\n",
    "cv_score_lr_test= cv_score_test.mean()\n",
    "cv_score_lr_train= cv_score_train.mean()\n",
    "cv_score_std_lr= cv_score_test.std()\n",
    "print('Testing Mean Cross Validation: ' +str(cv_score_lr_test))\n",
    "print('Training Mean Cross Validation: ' +str(cv_score_lr_train))\n",
    "print('Cross Validation Standard Deviation: ' +str(cv_score_std_lr))"
   ]
  },
  {
   "cell_type": "markdown",
   "metadata": {},
   "source": [
    "## 2b. Random Forest Model"
   ]
  },
  {
   "cell_type": "code",
   "execution_count": 16,
   "metadata": {},
   "outputs": [],
   "source": [
    "from sklearn.ensemble import RandomForestClassifier\n",
    "rf = RandomForestClassifier(bootstrap=True,n_estimators=100,criterion='entropy')\n",
    "rf.fit(X_train, y_train)\n",
    "rf_pred = rf.predict(X_test)"
   ]
  },
  {
   "cell_type": "code",
   "execution_count": 17,
   "metadata": {},
   "outputs": [
    {
     "name": "stdout",
     "output_type": "stream",
     "text": [
      "The accuracy of random forest is 0.8367346938775511\n"
     ]
    }
   ],
   "source": [
    "#check accuracy\n",
    "accuracy_rf = rf.score(X_test,y_test)\n",
    "print('The accuracy of random forest is', accuracy_rf)"
   ]
  },
  {
   "cell_type": "code",
   "execution_count": 18,
   "metadata": {},
   "outputs": [
    {
     "name": "stdout",
     "output_type": "stream",
     "text": [
      "              precision    recall  f1-score   support\n",
      "\n",
      "           0       0.84      0.76      0.80        21\n",
      "           1       0.83      0.89      0.86        28\n",
      "\n",
      "    accuracy                           0.84        49\n",
      "   macro avg       0.84      0.83      0.83        49\n",
      "weighted avg       0.84      0.84      0.84        49\n",
      "\n"
     ]
    }
   ],
   "source": [
    "classification_report_rf = classification_report(y_test, rf_pred)\n",
    "print(classification_report_rf)"
   ]
  },
  {
   "cell_type": "code",
   "execution_count": 19,
   "metadata": {},
   "outputs": [],
   "source": [
    "from sklearn.metrics import precision_recall_fscore_support as score\n",
    "precision_rf, recall_rf, fscore_rf, support_rf = score(y_test, rf_pred, average='macro')"
   ]
  },
  {
   "cell_type": "code",
   "execution_count": 20,
   "metadata": {},
   "outputs": [
    {
     "name": "stdout",
     "output_type": "stream",
     "text": [
      "0.8273809523809523\n"
     ]
    }
   ],
   "source": [
    "rf_roc_auc = roc_auc_score(y_test,rf_pred)\n",
    "print(rf_roc_auc)"
   ]
  },
  {
   "cell_type": "code",
   "execution_count": 21,
   "metadata": {},
   "outputs": [
    {
     "name": "stdout",
     "output_type": "stream",
     "text": [
      "[0.83333333 0.9375     0.79166667 0.68       0.85      ]\n",
      "Testing Mean Cross Validation: 0.8184999999999999\n",
      "Training Mean Cross Validation: 0.8190410565364126\n",
      "Cross Validation Standard Deviation: 0.08399470882806319\n"
     ]
    }
   ],
   "source": [
    "#cross validation for random forest\n",
    "cv_score_test= cross_val_score(rf, X_test, y_test,cv=5,scoring='roc_auc')\n",
    "cv_score_train= cross_val_score(rf, X_train, y_train,cv=5,scoring='roc_auc')\n",
    "print(cv_score_test)\n",
    "cv_score_rf_test= cv_score_test.mean()\n",
    "cv_score_rf_train= cv_score_train.mean()\n",
    "cv_score_std_rf= cv_score_test.std()\n",
    "print('Testing Mean Cross Validation: ' +str(cv_score_rf_test))\n",
    "print('Training Mean Cross Validation: ' +str(cv_score_rf_train))\n",
    "print('Cross Validation Standard Deviation: ' +str(cv_score_std_rf))"
   ]
  },
  {
   "cell_type": "code",
   "execution_count": 22,
   "metadata": {},
   "outputs": [
    {
     "name": "stdout",
     "output_type": "stream",
     "text": [
      "[[16  5]\n",
      " [ 3 25]]\n"
     ]
    }
   ],
   "source": [
    "#random forest confusion matrix\n",
    "conf_matrix_rf = confusion_matrix(y_test, rf_pred)\n",
    "print(conf_matrix_rf)"
   ]
  },
  {
   "cell_type": "markdown",
   "metadata": {},
   "source": [
    "## 2c. Gradient Boost"
   ]
  },
  {
   "cell_type": "code",
   "execution_count": 23,
   "metadata": {},
   "outputs": [],
   "source": [
    "#gradientBoost\n",
    "from sklearn.ensemble import GradientBoostingClassifier\n",
    "gb = GradientBoostingClassifier(random_state=42)\n",
    "gb.fit(X_train, y_train)\n",
    "y_pred_gradient = gb.predict(X_test)"
   ]
  },
  {
   "cell_type": "code",
   "execution_count": 24,
   "metadata": {},
   "outputs": [
    {
     "name": "stdout",
     "output_type": "stream",
     "text": [
      "The accuracy for gradient boost is 0.8571428571428571\n"
     ]
    }
   ],
   "source": [
    "gradient_accuracy = accuracy_score(y_test, y_pred_gradient)\n",
    "print('The accuracy for gradient boost is',gradient_accuracy)"
   ]
  },
  {
   "cell_type": "code",
   "execution_count": 25,
   "metadata": {},
   "outputs": [
    {
     "name": "stdout",
     "output_type": "stream",
     "text": [
      "              precision    recall  f1-score   support\n",
      "\n",
      "           0       0.85      0.81      0.83        21\n",
      "           1       0.86      0.89      0.88        28\n",
      "\n",
      "    accuracy                           0.86        49\n",
      "   macro avg       0.86      0.85      0.85        49\n",
      "weighted avg       0.86      0.86      0.86        49\n",
      "\n"
     ]
    }
   ],
   "source": [
    "classification_report_gradient = classification_report(y_test, y_pred_gradient)\n",
    "print(classification_report_gradient)"
   ]
  },
  {
   "cell_type": "code",
   "execution_count": 26,
   "metadata": {},
   "outputs": [],
   "source": [
    "precision_gb, recall_gb, fscore_gb, support = score(y_test, y_pred_gradient, average='macro')"
   ]
  },
  {
   "cell_type": "code",
   "execution_count": 27,
   "metadata": {},
   "outputs": [
    {
     "name": "stdout",
     "output_type": "stream",
     "text": [
      "0.8560344827586206 0.8511904761904763 0.8532306375695335\n"
     ]
    }
   ],
   "source": [
    "print(precision_gb, recall_gb, fscore_gb)"
   ]
  },
  {
   "cell_type": "code",
   "execution_count": 28,
   "metadata": {},
   "outputs": [
    {
     "name": "stdout",
     "output_type": "stream",
     "text": [
      "0.8511904761904762\n"
     ]
    }
   ],
   "source": [
    "roc_auc_gb = roc_auc_score(y_test, y_pred_gradient)\n",
    "print(roc_auc_gb)"
   ]
  },
  {
   "cell_type": "code",
   "execution_count": 29,
   "metadata": {},
   "outputs": [
    {
     "name": "stdout",
     "output_type": "stream",
     "text": [
      "[0.66666667 0.83333333 0.8125     0.52       0.7       ]\n",
      "Testing Mean Cross Validation: 0.7064999999999999\n",
      "Training Mean Cross Validation: 0.8627029258360528\n",
      "Cross Validation Standard Deviation: 0.11290162876494642\n"
     ]
    }
   ],
   "source": [
    "#cross validation for Gradient Boost\n",
    "cv_score_test= cross_val_score(gb, X_test, y_test,cv=5,scoring='roc_auc')\n",
    "cv_score_train= cross_val_score(gb, X_train, y_train,cv=5,scoring='roc_auc')\n",
    "print(cv_score_test)\n",
    "cv_score_gb_test= cv_score_test.mean()\n",
    "cv_score_gb_train= cv_score_train.mean()\n",
    "cv_score_std_gb= cv_score_test.std()\n",
    "print('Testing Mean Cross Validation: ' +str(cv_score_gb_test))\n",
    "print('Training Mean Cross Validation: ' +str(cv_score_gb_train))\n",
    "print('Cross Validation Standard Deviation: ' +str(cv_score_std_gb))"
   ]
  },
  {
   "cell_type": "code",
   "execution_count": 30,
   "metadata": {},
   "outputs": [
    {
     "name": "stdout",
     "output_type": "stream",
     "text": [
      "[[17  4]\n",
      " [ 3 25]]\n"
     ]
    }
   ],
   "source": [
    "#gradient boost confusion matrix\n",
    "conf_matrix_gb = confusion_matrix(y_test, y_pred_gradient)\n",
    "print(conf_matrix_gb)"
   ]
  },
  {
   "cell_type": "markdown",
   "metadata": {},
   "source": [
    "## 2d. KNN"
   ]
  },
  {
   "cell_type": "code",
   "execution_count": 31,
   "metadata": {},
   "outputs": [
    {
     "name": "stdout",
     "output_type": "stream",
     "text": [
      "The accuracy for KNearest Neighbors is 0.7959183673469388\n"
     ]
    }
   ],
   "source": [
    "#try knn \n",
    "from sklearn.neighbors import KNeighborsClassifier\n",
    "knn = KNeighborsClassifier(p=2,weights='distance',n_neighbors=20)\n",
    "knn.fit(X_train,y_train)\n",
    "y_pred_knn = knn.predict(X_test)\n",
    "accuracy_knn=knn.score(X_test,y_test)\n",
    "print('The accuracy for KNearest Neighbors is',accuracy_knn)"
   ]
  },
  {
   "cell_type": "code",
   "execution_count": 32,
   "metadata": {},
   "outputs": [
    {
     "name": "stdout",
     "output_type": "stream",
     "text": [
      "              precision    recall  f1-score   support\n",
      "\n",
      "           0       0.79      0.71      0.75        21\n",
      "           1       0.80      0.86      0.83        28\n",
      "\n",
      "    accuracy                           0.80        49\n",
      "   macro avg       0.79      0.79      0.79        49\n",
      "weighted avg       0.80      0.80      0.79        49\n",
      "\n"
     ]
    }
   ],
   "source": [
    "classification_report_knn = classification_report(y_test, y_pred_knn)\n",
    "print(classification_report_knn)"
   ]
  },
  {
   "cell_type": "code",
   "execution_count": 33,
   "metadata": {},
   "outputs": [],
   "source": [
    "precision_knn, recall_knn, fscore_knn, support = score(y_test, y_pred_knn, average='macro')"
   ]
  },
  {
   "cell_type": "code",
   "execution_count": 34,
   "metadata": {},
   "outputs": [
    {
     "name": "stdout",
     "output_type": "stream",
     "text": [
      "0.7947368421052632 0.7857142857142857 0.788793103448276\n"
     ]
    }
   ],
   "source": [
    "print(precision_knn, recall_knn, fscore_knn)"
   ]
  },
  {
   "cell_type": "markdown",
   "metadata": {},
   "source": [
    "Cross Validation for KNN"
   ]
  },
  {
   "cell_type": "code",
   "execution_count": 35,
   "metadata": {},
   "outputs": [
    {
     "name": "stdout",
     "output_type": "stream",
     "text": [
      "[0.83333333 0.83333333 0.70833333 0.64       0.85      ]\n",
      "Testing Mean Cross Validation: 0.773\n",
      "Training Mean Cross Validation: 0.8005774970016457\n",
      "Cross Validation Standard Deviation: 0.08376156636548769\n"
     ]
    }
   ],
   "source": [
    "cv_score_test= cross_val_score(knn,X_test, y_test,cv=5,scoring='roc_auc')\n",
    "cv_score_train= cross_val_score(knn, X_train, y_train,cv=5,scoring='roc_auc')\n",
    "print(cv_score_test)\n",
    "cv_score_knn_test= cv_score_test.mean()\n",
    "cv_score_knn_train= cv_score_train.mean()\n",
    "cv_score_std_knn= cv_score_test.std()\n",
    "print('Testing Mean Cross Validation: ' +str(cv_score_knn_test))\n",
    "print('Training Mean Cross Validation: ' +str(cv_score_knn_train))\n",
    "print('Cross Validation Standard Deviation: ' +str(cv_score_std_knn))"
   ]
  },
  {
   "cell_type": "code",
   "execution_count": 36,
   "metadata": {},
   "outputs": [
    {
     "name": "stdout",
     "output_type": "stream",
     "text": [
      "[[15  6]\n",
      " [ 4 24]]\n"
     ]
    }
   ],
   "source": [
    "#knn confusion matrix\n",
    "conf_matrix_knn = confusion_matrix(y_test, y_pred_knn)\n",
    "print(conf_matrix_knn)"
   ]
  },
  {
   "cell_type": "code",
   "execution_count": 37,
   "metadata": {},
   "outputs": [
    {
     "name": "stdout",
     "output_type": "stream",
     "text": [
      "0.7857142857142858\n"
     ]
    }
   ],
   "source": [
    "roc_auc_knn = roc_auc_score(y_test, y_pred_knn)\n",
    "print(roc_auc_knn)"
   ]
  },
  {
   "cell_type": "markdown",
   "metadata": {},
   "source": [
    "## 2e. SVM"
   ]
  },
  {
   "cell_type": "code",
   "execution_count": 38,
   "metadata": {},
   "outputs": [
    {
     "name": "stdout",
     "output_type": "stream",
     "text": [
      "The Accuracy score for SVM is 0.8775510204081632\n"
     ]
    }
   ],
   "source": [
    "#SVM\n",
    "from sklearn.svm import SVC\n",
    "svm = SVC(probability=True)\n",
    "svm.fit(X_train, y_train)\n",
    "y_pred_svm = svm.predict(X_test)\n",
    "accuracy_svm=svm.score(X_test,y_test)\n",
    "print('The Accuracy score for SVM is', accuracy_svm)"
   ]
  },
  {
   "cell_type": "code",
   "execution_count": 39,
   "metadata": {},
   "outputs": [
    {
     "name": "stdout",
     "output_type": "stream",
     "text": [
      "              precision    recall  f1-score   support\n",
      "\n",
      "           0       0.89      0.81      0.85        21\n",
      "           1       0.87      0.93      0.90        28\n",
      "\n",
      "    accuracy                           0.88        49\n",
      "   macro avg       0.88      0.87      0.87        49\n",
      "weighted avg       0.88      0.88      0.88        49\n",
      "\n"
     ]
    }
   ],
   "source": [
    "classification_report_svm = classification_report(y_test, y_pred_svm)\n",
    "print(classification_report_svm)"
   ]
  },
  {
   "cell_type": "code",
   "execution_count": 40,
   "metadata": {},
   "outputs": [],
   "source": [
    "precision_svm, recall_svm, fscore_svm, support = score(y_test, y_pred_svm, average='macro')"
   ]
  },
  {
   "cell_type": "code",
   "execution_count": 41,
   "metadata": {},
   "outputs": [
    {
     "name": "stdout",
     "output_type": "stream",
     "text": [
      "0.880701754385965 0.8690476190476191 0.8732758620689656\n"
     ]
    }
   ],
   "source": [
    "print(precision_svm, recall_svm, fscore_svm)"
   ]
  },
  {
   "cell_type": "code",
   "execution_count": 42,
   "metadata": {},
   "outputs": [
    {
     "name": "stdout",
     "output_type": "stream",
     "text": [
      "[0.91666667 0.95833333 0.91666667 0.68       0.8       ]\n",
      "Testing Mean Cross Validation: 0.8543333333333333\n",
      "Training Mean Cross Validation: 0.8523979025465094\n",
      "Cross Validation Standard Deviation: 0.10191281677111191\n"
     ]
    }
   ],
   "source": [
    "cv_score_test= cross_val_score(svm,X_test, y_test,cv=5,scoring='roc_auc')\n",
    "cv_score_train= cross_val_score(svm, X_train, y_train,cv=5,scoring='roc_auc')\n",
    "print(cv_score_test)\n",
    "cv_score_svm_test= cv_score_test.mean()\n",
    "cv_score_svm_train= cv_score_train.mean()\n",
    "cv_score_std_svm = cv_score_test.std()\n",
    "print('Testing Mean Cross Validation: ' +str(cv_score_svm_test))\n",
    "print('Training Mean Cross Validation: ' +str(cv_score_svm_train))\n",
    "print('Cross Validation Standard Deviation: ' +str(cv_score_std_svm))"
   ]
  },
  {
   "cell_type": "code",
   "execution_count": 43,
   "metadata": {},
   "outputs": [
    {
     "name": "stdout",
     "output_type": "stream",
     "text": [
      "[[17  4]\n",
      " [ 2 26]]\n"
     ]
    }
   ],
   "source": [
    "#svm confusion matrix\n",
    "conf_matrix_svm = confusion_matrix(y_test, y_pred_svm)\n",
    "print(conf_matrix_svm)"
   ]
  },
  {
   "cell_type": "code",
   "execution_count": 44,
   "metadata": {},
   "outputs": [
    {
     "name": "stdout",
     "output_type": "stream",
     "text": [
      "0.8690476190476191\n"
     ]
    }
   ],
   "source": [
    "roc_auc_svm = roc_auc_score(y_test, y_pred_svm)\n",
    "print(roc_auc_svm)"
   ]
  },
  {
   "cell_type": "markdown",
   "metadata": {},
   "source": [
    "## 2f. Naive Bayes"
   ]
  },
  {
   "cell_type": "code",
   "execution_count": 45,
   "metadata": {},
   "outputs": [
    {
     "name": "stdout",
     "output_type": "stream",
     "text": [
      "The accuracy for Naive Bayes is 0.7142857142857143\n"
     ]
    }
   ],
   "source": [
    "#naive bayes\n",
    "from sklearn.naive_bayes import GaussianNB\n",
    "naivebayes = GaussianNB()\n",
    "naivebayes.fit(X_train, y_train)\n",
    "y_pred_nb = naivebayes.predict(X_test)\n",
    "accuracy_nb=naivebayes.score(X_test,y_test)\n",
    "print('The accuracy for Naive Bayes is', accuracy_nb)"
   ]
  },
  {
   "cell_type": "code",
   "execution_count": 46,
   "metadata": {},
   "outputs": [
    {
     "name": "stdout",
     "output_type": "stream",
     "text": [
      "              precision    recall  f1-score   support\n",
      "\n",
      "           0       0.65      0.71      0.68        21\n",
      "           1       0.77      0.71      0.74        28\n",
      "\n",
      "    accuracy                           0.71        49\n",
      "   macro avg       0.71      0.71      0.71        49\n",
      "weighted avg       0.72      0.71      0.72        49\n",
      "\n"
     ]
    }
   ],
   "source": [
    "classification_report_nb = classification_report(y_test, y_pred_nb)\n",
    "print(classification_report_nb)"
   ]
  },
  {
   "cell_type": "code",
   "execution_count": 47,
   "metadata": {},
   "outputs": [],
   "source": [
    "precision_nb, recall_nb, fscore_nb, support=score(y_test, y_pred_nb, average='macro')"
   ]
  },
  {
   "cell_type": "code",
   "execution_count": 48,
   "metadata": {},
   "outputs": [
    {
     "name": "stdout",
     "output_type": "stream",
     "text": [
      "0.7107023411371238 0.7142857142857143 0.7112794612794613\n"
     ]
    }
   ],
   "source": [
    "print(precision_nb, recall_nb, fscore_nb)"
   ]
  },
  {
   "cell_type": "code",
   "execution_count": 49,
   "metadata": {},
   "outputs": [
    {
     "name": "stdout",
     "output_type": "stream",
     "text": [
      "[0.625      0.91666667 0.625      0.6        0.625     ]\n",
      "Testing Mean Cross Validation: 0.6783333333333333\n",
      "Training Mean Cross Validation: 0.8495526455247818\n",
      "Cross Validation Standard Deviation: 0.11955937622973967\n"
     ]
    }
   ],
   "source": [
    "cv_score_test= cross_val_score(naivebayes, X_test, y_test,cv=5,scoring='roc_auc')\n",
    "cv_score_train= cross_val_score(naivebayes, X_train, y_train,cv=5,scoring='roc_auc')\n",
    "print(cv_score_test)\n",
    "cv_score_nb_test= cv_score_test.mean()\n",
    "cv_score_nb_train= cv_score_train.mean()\n",
    "cv_score_std_nb = cv_score_test.std()\n",
    "print('Testing Mean Cross Validation: ' +str(cv_score_nb_test))\n",
    "print('Training Mean Cross Validation: ' +str(cv_score_nb_train))\n",
    "print('Cross Validation Standard Deviation: ' +str(cv_score_std_nb))"
   ]
  },
  {
   "cell_type": "code",
   "execution_count": 50,
   "metadata": {},
   "outputs": [
    {
     "name": "stdout",
     "output_type": "stream",
     "text": [
      "[[15  6]\n",
      " [ 8 20]]\n"
     ]
    }
   ],
   "source": [
    "#nb confusion matrix\n",
    "conf_matrix_nb = confusion_matrix(y_test, y_pred_nb)\n",
    "print(conf_matrix_nb)"
   ]
  },
  {
   "cell_type": "code",
   "execution_count": 51,
   "metadata": {},
   "outputs": [
    {
     "name": "stdout",
     "output_type": "stream",
     "text": [
      "0.7142857142857143\n"
     ]
    }
   ],
   "source": [
    "roc_auc_nb = roc_auc_score(y_test, y_pred_nb)\n",
    "print(roc_auc_nb)"
   ]
  },
  {
   "cell_type": "markdown",
   "metadata": {},
   "source": [
    "## 2g. ADAboost"
   ]
  },
  {
   "cell_type": "code",
   "execution_count": 52,
   "metadata": {},
   "outputs": [
    {
     "name": "stdout",
     "output_type": "stream",
     "text": [
      "0.8571428571428571\n"
     ]
    }
   ],
   "source": [
    "from sklearn.ensemble import AdaBoostClassifier\n",
    "ada = AdaBoostClassifier(random_state=42)\n",
    "ada.fit(X_train, y_train)\n",
    "y_pred_ada = ada.predict(X_test)\n",
    "ada_accuracy = accuracy_score(y_test, y_pred_ada)\n",
    "print(ada_accuracy)"
   ]
  },
  {
   "cell_type": "code",
   "execution_count": 53,
   "metadata": {},
   "outputs": [
    {
     "name": "stdout",
     "output_type": "stream",
     "text": [
      "              precision    recall  f1-score   support\n",
      "\n",
      "           0       0.85      0.81      0.83        21\n",
      "           1       0.86      0.89      0.88        28\n",
      "\n",
      "    accuracy                           0.86        49\n",
      "   macro avg       0.86      0.85      0.85        49\n",
      "weighted avg       0.86      0.86      0.86        49\n",
      "\n"
     ]
    }
   ],
   "source": [
    "classification_report_ada = classification_report(y_test, y_pred_ada)\n",
    "print(classification_report_ada)"
   ]
  },
  {
   "cell_type": "code",
   "execution_count": 54,
   "metadata": {},
   "outputs": [],
   "source": [
    "precision_ada, recall_ada, fscore_ada, support = score(y_test, y_pred_ada, average='macro')"
   ]
  },
  {
   "cell_type": "code",
   "execution_count": 55,
   "metadata": {},
   "outputs": [
    {
     "name": "stdout",
     "output_type": "stream",
     "text": [
      "[0.66666667 0.75       0.5        0.6        0.6       ]\n",
      "Testing Mean Cross Validation: 0.6233333333333333\n",
      "Training Mean Cross Validation: 0.849084651214682\n",
      "Cross Validation Standard Deviation: 0.08273115763993903\n"
     ]
    }
   ],
   "source": [
    "cv_score_test= cross_val_score(ada, X_test, y_test,cv=5,scoring='roc_auc')\n",
    "cv_score_train= cross_val_score(ada, X_train, y_train,cv=5,scoring='roc_auc')\n",
    "print(cv_score_test)\n",
    "cv_score_ada_test= cv_score_test.mean()\n",
    "cv_score_ada_train= cv_score_train.mean()\n",
    "cv_score_std_ada = cv_score_test.std()\n",
    "print('Testing Mean Cross Validation: ' +str(cv_score_ada_test))\n",
    "print('Training Mean Cross Validation: ' +str(cv_score_ada_train))\n",
    "print('Cross Validation Standard Deviation: ' +str(cv_score_std_ada))"
   ]
  },
  {
   "cell_type": "code",
   "execution_count": 56,
   "metadata": {},
   "outputs": [
    {
     "name": "stdout",
     "output_type": "stream",
     "text": [
      "[[17  4]\n",
      " [ 3 25]]\n"
     ]
    }
   ],
   "source": [
    "#adaboost confusion matrix\n",
    "conf_matrix_ada = confusion_matrix(y_test, y_pred_ada)\n",
    "print(conf_matrix_ada)"
   ]
  },
  {
   "cell_type": "code",
   "execution_count": 57,
   "metadata": {},
   "outputs": [
    {
     "name": "stdout",
     "output_type": "stream",
     "text": [
      "0.8511904761904762\n"
     ]
    }
   ],
   "source": [
    "roc_auc_ada = roc_auc_score(y_test, y_pred_ada)\n",
    "print(roc_auc_ada)"
   ]
  },
  {
   "cell_type": "markdown",
   "metadata": {},
   "source": [
    "# 3. Model Comparison"
   ]
  },
  {
   "cell_type": "code",
   "execution_count": 58,
   "metadata": {},
   "outputs": [],
   "source": [
    "algorithm_labels = ['Logistic Regression', 'Random Forest', 'Gradient Boost', 'K Nearest Neighbors', 'Support Vector Machine (SVM)','Naive Bayes', 'ADA Boost', 'ROC-AUC Score']\n",
    "accuracy_scores = [test_accuracy, accuracy_rf, gradient_accuracy, accuracy_knn, accuracy_svm, accuracy_nb, ada_accuracy]"
   ]
  },
  {
   "cell_type": "code",
   "execution_count": 59,
   "metadata": {},
   "outputs": [],
   "source": [
    "precision_scores = [precision_lr, precision_rf, precision_gb, precision_knn, precision_svm, precision_nb, precision_ada]\n",
    "recalls = [recall_lr, recall_rf, recall_gb, recall_knn, recall_svm, recall_nb, recall_ada]\n",
    "fscores = [fscore_lr, fscore_rf, fscore_gb, fscore_knn, fscore_svm, fscore_nb, fscore_ada]"
   ]
  },
  {
   "cell_type": "code",
   "execution_count": 60,
   "metadata": {},
   "outputs": [],
   "source": [
    "roc_auc_scores = [lr_auc_roc, rf_roc_auc, roc_auc_gb, roc_auc_knn, roc_auc_svm, roc_auc_nb, roc_auc_ada]"
   ]
  },
  {
   "cell_type": "code",
   "execution_count": 61,
   "metadata": {},
   "outputs": [
    {
     "data": {
      "text/html": [
       "<div>\n",
       "<style scoped>\n",
       "    .dataframe tbody tr th:only-of-type {\n",
       "        vertical-align: middle;\n",
       "    }\n",
       "\n",
       "    .dataframe tbody tr th {\n",
       "        vertical-align: top;\n",
       "    }\n",
       "\n",
       "    .dataframe thead th {\n",
       "        text-align: right;\n",
       "    }\n",
       "</style>\n",
       "<table border=\"1\" class=\"dataframe\">\n",
       "  <thead>\n",
       "    <tr style=\"text-align: right;\">\n",
       "      <th></th>\n",
       "      <th>Algorithm</th>\n",
       "      <th>Accuracy</th>\n",
       "      <th>Precision</th>\n",
       "      <th>Recall</th>\n",
       "      <th>F-Score</th>\n",
       "      <th>ROC-AUC Score</th>\n",
       "    </tr>\n",
       "  </thead>\n",
       "  <tbody>\n",
       "    <tr>\n",
       "      <th>0</th>\n",
       "      <td>Logistic Regression</td>\n",
       "      <td>0.877551</td>\n",
       "      <td>0.880702</td>\n",
       "      <td>0.869048</td>\n",
       "      <td>0.873276</td>\n",
       "      <td>0.869048</td>\n",
       "    </tr>\n",
       "    <tr>\n",
       "      <th>1</th>\n",
       "      <td>Random Forest</td>\n",
       "      <td>0.836735</td>\n",
       "      <td>0.837719</td>\n",
       "      <td>0.827381</td>\n",
       "      <td>0.831034</td>\n",
       "      <td>0.827381</td>\n",
       "    </tr>\n",
       "    <tr>\n",
       "      <th>2</th>\n",
       "      <td>Gradient Boost</td>\n",
       "      <td>0.857143</td>\n",
       "      <td>0.856034</td>\n",
       "      <td>0.851190</td>\n",
       "      <td>0.853231</td>\n",
       "      <td>0.851190</td>\n",
       "    </tr>\n",
       "    <tr>\n",
       "      <th>3</th>\n",
       "      <td>K Nearest Neighbors</td>\n",
       "      <td>0.795918</td>\n",
       "      <td>0.794737</td>\n",
       "      <td>0.785714</td>\n",
       "      <td>0.788793</td>\n",
       "      <td>0.785714</td>\n",
       "    </tr>\n",
       "    <tr>\n",
       "      <th>4</th>\n",
       "      <td>Support Vector Machine (SVM)</td>\n",
       "      <td>0.877551</td>\n",
       "      <td>0.880702</td>\n",
       "      <td>0.869048</td>\n",
       "      <td>0.873276</td>\n",
       "      <td>0.869048</td>\n",
       "    </tr>\n",
       "    <tr>\n",
       "      <th>5</th>\n",
       "      <td>Naive Bayes</td>\n",
       "      <td>0.714286</td>\n",
       "      <td>0.710702</td>\n",
       "      <td>0.714286</td>\n",
       "      <td>0.711279</td>\n",
       "      <td>0.714286</td>\n",
       "    </tr>\n",
       "    <tr>\n",
       "      <th>6</th>\n",
       "      <td>ADA Boost</td>\n",
       "      <td>0.857143</td>\n",
       "      <td>0.856034</td>\n",
       "      <td>0.851190</td>\n",
       "      <td>0.853231</td>\n",
       "      <td>0.851190</td>\n",
       "    </tr>\n",
       "  </tbody>\n",
       "</table>\n",
       "</div>"
      ],
      "text/plain": [
       "                      Algorithm  Accuracy  Precision    Recall   F-Score  \\\n",
       "0           Logistic Regression  0.877551   0.880702  0.869048  0.873276   \n",
       "1                 Random Forest  0.836735   0.837719  0.827381  0.831034   \n",
       "2                Gradient Boost  0.857143   0.856034  0.851190  0.853231   \n",
       "3           K Nearest Neighbors  0.795918   0.794737  0.785714  0.788793   \n",
       "4  Support Vector Machine (SVM)  0.877551   0.880702  0.869048  0.873276   \n",
       "5                   Naive Bayes  0.714286   0.710702  0.714286  0.711279   \n",
       "6                     ADA Boost  0.857143   0.856034  0.851190  0.853231   \n",
       "\n",
       "   ROC-AUC Score  \n",
       "0       0.869048  \n",
       "1       0.827381  \n",
       "2       0.851190  \n",
       "3       0.785714  \n",
       "4       0.869048  \n",
       "5       0.714286  \n",
       "6       0.851190  "
      ]
     },
     "execution_count": 61,
     "metadata": {},
     "output_type": "execute_result"
    }
   ],
   "source": [
    "model_comparison = pd.DataFrame(zip(algorithm_labels, accuracy_scores, precision_scores, recalls, fscores, roc_auc_scores), columns=['Algorithm', 'Accuracy', 'Precision', 'Recall', 'F-Score', 'ROC-AUC Score'])\n",
    "model_comparison"
   ]
  },
  {
   "cell_type": "markdown",
   "metadata": {},
   "source": [
    "## 3a. Algorithm Comparisons"
   ]
  },
  {
   "cell_type": "code",
   "execution_count": 62,
   "metadata": {},
   "outputs": [
    {
     "name": "stdout",
     "output_type": "stream",
     "text": [
      "                      Algorithm  Accuracy\n",
      "0           Logistic Regression  0.877551\n",
      "1                 Random Forest  0.836735\n",
      "2                Gradient Boost  0.857143\n",
      "3           K Nearest Neighbors  0.795918\n",
      "4  Support Vector Machine (SVM)  0.877551\n",
      "5                   Naive Bayes  0.714286\n",
      "6                     ADA Boost  0.857143\n"
     ]
    }
   ],
   "source": [
    "df_comparison = pd.DataFrame(zip(algorithm_labels, accuracy_scores), columns = ['Algorithm', 'Accuracy'])\n",
    "print(df_comparison)\n"
   ]
  },
  {
   "cell_type": "code",
   "execution_count": 63,
   "metadata": {},
   "outputs": [
    {
     "data": {
      "image/png": "[encoded data removed]",
      "text/plain": [
       "<Figure size 1440x576 with 1 Axes>"
      ]
     },
     "metadata": {
      "needs_background": "light"
     },
     "output_type": "display_data"
    }
   ],
   "source": [
    "plt.figure(figsize =(20,8))\n",
    "plt.bar(df_comparison['Algorithm'], df_comparison['Accuracy'], color='c')\n",
    "plt.xlabel('Model', fontsize = 20)\n",
    "plt.ylabel('Accuracy', fontsize = 20)\n",
    "plt.title('Models and their Accuracy', fontsize = 20)\n",
    "plt.show()"
   ]
  },
  {
   "cell_type": "markdown",
   "metadata": {},
   "source": [
    "Overall, when observing the models, Logistic Regression and SVM are the models that have performed the best, so I will perform hyperparameter tuning on both these models and will model these some more using AUC-ROC and checking feature importance"
   ]
  },
  {
   "cell_type": "markdown",
   "metadata": {},
   "source": [
    "# 4. Hyperparameter Tuning\n",
    "After finding the best models, I am going to tune the hyperparameters, find the best parameters for SVM and Logistic Regression, see the feature importances for each, and create AUC/ROC curves"
   ]
  },
  {
   "cell_type": "markdown",
   "metadata": {},
   "source": [
    "## 4a. Hyperparameter Tuning on Logistic Regression"
   ]
  },
  {
   "cell_type": "code",
   "execution_count": 64,
   "metadata": {},
   "outputs": [],
   "source": [
    "clf_params = LogisticRegression()\n",
    "C_params = [0.001, 0.01, 0.1, 1, 10, 100]"
   ]
  },
  {
   "cell_type": "code",
   "execution_count": 65,
   "metadata": {},
   "outputs": [
    {
     "data": {
      "text/plain": [
       "{'C': 1}"
      ]
     },
     "execution_count": 65,
     "metadata": {},
     "output_type": "execute_result"
    }
   ],
   "source": [
    "from sklearn.model_selection import GridSearchCV\n",
    "c = [c for c in C_params]\n",
    "grid_params = {'C':c}\n",
    "clf_grid = GridSearchCV(clf_params, param_grid = grid_params, cv=5, n_jobs=-1)\n",
    "clf_grid.fit(X_train, y_train)\n",
    "clf_grid.best_params_"
   ]
  },
  {
   "cell_type": "code",
   "execution_count": 66,
   "metadata": {},
   "outputs": [
    {
     "name": "stdout",
     "output_type": "stream",
     "text": [
      "The accuracy after hyperparameter tuning for logistic regression is 0.8538812785388128\n"
     ]
    }
   ],
   "source": [
    "clf_params = LogisticRegression(C=1.0, random_state=42)\n",
    "clf_params.fit(X_train, y_train)\n",
    "clfparams_ypred = clf_params.predict(X_train)\n",
    "clf_grid_accuracy = accuracy_score(clfparams_ypred, y_train)\n",
    "print('The accuracy after hyperparameter tuning for logistic regression is', clf_grid_accuracy)"
   ]
  },
  {
   "cell_type": "code",
   "execution_count": 67,
   "metadata": {},
   "outputs": [
    {
     "name": "stdout",
     "output_type": "stream",
     "text": [
      "              precision    recall  f1-score   support\n",
      "\n",
      "           0       0.74      0.90      0.81       154\n",
      "           1       0.94      0.83      0.88       284\n",
      "\n",
      "    accuracy                           0.85       438\n",
      "   macro avg       0.84      0.86      0.85       438\n",
      "weighted avg       0.87      0.85      0.86       438\n",
      "\n"
     ]
    }
   ],
   "source": [
    "#classification report after hyperparam tuning\n",
    "print(classification_report(clfparams_ypred,y_train))"
   ]
  },
  {
   "cell_type": "code",
   "execution_count": 68,
   "metadata": {},
   "outputs": [
    {
     "name": "stdout",
     "output_type": "stream",
     "text": [
      "ROC-AUC Score for logistic regression: 0.8962585034013606\n"
     ]
    }
   ],
   "source": [
    "logreg_yscore = clf_params.predict_proba(X_test)\n",
    "logreg_yscore = logreg_yscore[:,1]\n",
    "lr_aucroc = roc_auc_score(y_test, logreg_yscore)\n",
    "print(\"ROC-AUC Score for logistic regression:\", lr_aucroc)"
   ]
  },
  {
   "cell_type": "code",
   "execution_count": 69,
   "metadata": {},
   "outputs": [
    {
     "data": {
      "image/png": "[encoded data removed]",
      "text/plain": [
       "<Figure size 720x360 with 1 Axes>"
      ]
     },
     "metadata": {
      "needs_background": "light"
     },
     "output_type": "display_data"
    }
   ],
   "source": [
    "#ROC/AUC Curve for logistic regression\n",
    "false_positive_rate, true_positive_rate, thresholds = roc_curve(y_test, logreg_yscore)\n",
    "def plot_roc_curve(false_positive_rate, true_positive_rate, label=None):\n",
    "    plt.plot(false_positive_rate, true_positive_rate, linewidth=2, label=label)\n",
    "    plt.plot([0, 1], [0, 1], 'r', linewidth=4)\n",
    "    plt.axis([0, 1, 0, 1])\n",
    "    plt.xlabel('False Positive Rate (FPR)')\n",
    "    plt.ylabel('True Positive Rate (TPR)')\n",
    "    plt.title('Logistic Regression ROC Curve')\n",
    "\n",
    "plt.figure(figsize=(10, 5))\n",
    "plot_roc_curve(false_positive_rate, true_positive_rate)\n",
    "plt.show()"
   ]
  },
  {
   "cell_type": "code",
   "execution_count": 70,
   "metadata": {},
   "outputs": [
    {
     "name": "stdout",
     "output_type": "stream",
     "text": [
      "                  Features  Importance scores\n",
      "0                      Age           0.035764\n",
      "1                   Female           0.125359\n",
      "2                     Male           0.149308\n",
      "3       interference_never           0.149308\n",
      "4       interference_often           0.183755\n",
      "5      interference_rarely           0.208436\n",
      "6   interference_sometimes           0.245067\n",
      "7   ment_health_cons_maybe           0.245067\n",
      "8      ment_health_cons_no           0.375301\n",
      "9     ment_health_cons_yes           1.429901\n",
      "10       no_family history           1.675590\n",
      "11      family_history_yes           1.806279\n"
     ]
    }
   ],
   "source": [
    "#calculating importances for logistic regression\n",
    "def f_importances(coef, names, top=-1):\n",
    "    imp = coef\n",
    "    imp, names = zip(*sorted(list(zip(imp, names))))\n",
    "\n",
    "    # Show all features\n",
    "    if top == -1:\n",
    "        top = len(names)\n",
    "    lr_imps = pd.DataFrame(list(zip(df.columns,imp)),columns =['Features', 'Importance scores'])\n",
    "    print(lr_imps)\n",
    "feature_names = df.columns\n",
    "logreg_imp = LogisticRegression()\n",
    "logreg_imp.fit(X_train, y_train)\n",
    "f_importances(abs(clf_params.coef_[0]), feature_names, top=10)"
   ]
  },
  {
   "cell_type": "markdown",
   "metadata": {},
   "source": [
    "## 4b. Hyperparameter Tuning on SVM model"
   ]
  },
  {
   "cell_type": "code",
   "execution_count": 71,
   "metadata": {},
   "outputs": [
    {
     "name": "stdout",
     "output_type": "stream",
     "text": [
      "Fitting 5 folds for each of 25 candidates, totalling 125 fits\n",
      "[CV] C=0.1, gamma=1, kernel=rbf ......................................\n",
      "[CV] .......... C=0.1, gamma=1, kernel=rbf, score=0.636, total=   0.1s\n",
      "[CV] C=0.1, gamma=1, kernel=rbf ......................................\n",
      "[CV] .......... C=0.1, gamma=1, kernel=rbf, score=0.614, total=   0.0s\n",
      "[CV] C=0.1, gamma=1, kernel=rbf ......................................\n",
      "[CV] .......... C=0.1, gamma=1, kernel=rbf, score=0.625, total=   0.0s\n",
      "[CV] C=0.1, gamma=1, kernel=rbf ......................................\n",
      "[CV] .......... C=0.1, gamma=1, kernel=rbf, score=0.667, total=   0.0s\n",
      "[CV] C=0.1, gamma=1, kernel=rbf ......................................\n"
     ]
    },
    {
     "name": "stderr",
     "output_type": "stream",
     "text": [
      "[Parallel(n_jobs=1)]: Using backend SequentialBackend with 1 concurrent workers.\n",
      "[Parallel(n_jobs=1)]: Done   1 out of   1 | elapsed:    0.0s remaining:    0.0s\n",
      "[Parallel(n_jobs=1)]: Done   2 out of   2 | elapsed:    0.0s remaining:    0.0s\n"
     ]
    },
    {
     "name": "stdout",
     "output_type": "stream",
     "text": [
      "[CV] .......... C=0.1, gamma=1, kernel=rbf, score=0.655, total=   0.0s\n",
      "[CV] C=0.1, gamma=0.1, kernel=rbf ....................................\n",
      "[CV] ........ C=0.1, gamma=0.1, kernel=rbf, score=0.727, total=   0.0s\n",
      "[CV] C=0.1, gamma=0.1, kernel=rbf ....................................\n",
      "[CV] ........ C=0.1, gamma=0.1, kernel=rbf, score=0.795, total=   0.0s\n",
      "[CV] C=0.1, gamma=0.1, kernel=rbf ....................................\n",
      "[CV] ........ C=0.1, gamma=0.1, kernel=rbf, score=0.795, total=   0.0s\n",
      "[CV] C=0.1, gamma=0.1, kernel=rbf ....................................\n",
      "[CV] ........ C=0.1, gamma=0.1, kernel=rbf, score=0.759, total=   0.0s\n",
      "[CV] C=0.1, gamma=0.1, kernel=rbf ....................................\n",
      "[CV] ........ C=0.1, gamma=0.1, kernel=rbf, score=0.828, total=   0.0s\n",
      "[CV] C=0.1, gamma=0.01, kernel=rbf ...................................\n",
      "[CV] ....... C=0.1, gamma=0.01, kernel=rbf, score=0.705, total=   0.0s\n",
      "[CV] C=0.1, gamma=0.01, kernel=rbf ...................................\n",
      "[CV] ....... C=0.1, gamma=0.01, kernel=rbf, score=0.716, total=   0.0s\n",
      "[CV] C=0.1, gamma=0.01, kernel=rbf ...................................\n",
      "[CV] ....... C=0.1, gamma=0.01, kernel=rbf, score=0.625, total=   0.0s\n",
      "[CV] C=0.1, gamma=0.01, kernel=rbf ...................................\n",
      "[CV] ....... C=0.1, gamma=0.01, kernel=rbf, score=0.713, total=   0.1s\n",
      "[CV] C=0.1, gamma=0.01, kernel=rbf ...................................\n",
      "[CV] ....... C=0.1, gamma=0.01, kernel=rbf, score=0.770, total=   0.1s\n",
      "[CV] C=0.1, gamma=0.001, kernel=rbf ..................................\n",
      "[CV] ...... C=0.1, gamma=0.001, kernel=rbf, score=0.580, total=   0.0s\n",
      "[CV] C=0.1, gamma=0.001, kernel=rbf ..................................\n",
      "[CV] ...... C=0.1, gamma=0.001, kernel=rbf, score=0.580, total=   0.1s\n",
      "[CV] C=0.1, gamma=0.001, kernel=rbf ..................................\n",
      "[CV] ...... C=0.1, gamma=0.001, kernel=rbf, score=0.568, total=   0.1s\n",
      "[CV] C=0.1, gamma=0.001, kernel=rbf ..................................\n",
      "[CV] ...... C=0.1, gamma=0.001, kernel=rbf, score=0.575, total=   0.1s\n",
      "[CV] C=0.1, gamma=0.001, kernel=rbf ..................................\n",
      "[CV] ...... C=0.1, gamma=0.001, kernel=rbf, score=0.575, total=   0.1s\n",
      "[CV] C=0.1, gamma=0.0001, kernel=rbf .................................\n",
      "[CV] ..... C=0.1, gamma=0.0001, kernel=rbf, score=0.580, total=   0.1s\n",
      "[CV] C=0.1, gamma=0.0001, kernel=rbf .................................\n",
      "[CV] ..... C=0.1, gamma=0.0001, kernel=rbf, score=0.580, total=   0.1s\n",
      "[CV] C=0.1, gamma=0.0001, kernel=rbf .................................\n",
      "[CV] ..... C=0.1, gamma=0.0001, kernel=rbf, score=0.568, total=   0.1s\n",
      "[CV] C=0.1, gamma=0.0001, kernel=rbf .................................\n",
      "[CV] ..... C=0.1, gamma=0.0001, kernel=rbf, score=0.575, total=   0.1s\n",
      "[CV] C=0.1, gamma=0.0001, kernel=rbf .................................\n",
      "[CV] ..... C=0.1, gamma=0.0001, kernel=rbf, score=0.575, total=   0.0s\n",
      "[CV] C=1, gamma=1, kernel=rbf ........................................\n",
      "[CV] ............ C=1, gamma=1, kernel=rbf, score=0.716, total=   0.0s\n",
      "[CV] C=1, gamma=1, kernel=rbf ........................................\n",
      "[CV] ............ C=1, gamma=1, kernel=rbf, score=0.807, total=   0.0s\n",
      "[CV] C=1, gamma=1, kernel=rbf ........................................\n",
      "[CV] ............ C=1, gamma=1, kernel=rbf, score=0.784, total=   0.0s\n",
      "[CV] C=1, gamma=1, kernel=rbf ........................................\n",
      "[CV] ............ C=1, gamma=1, kernel=rbf, score=0.770, total=   0.0s\n",
      "[CV] C=1, gamma=1, kernel=rbf ........................................\n",
      "[CV] ............ C=1, gamma=1, kernel=rbf, score=0.816, total=   0.0s\n",
      "[CV] C=1, gamma=0.1, kernel=rbf ......................................\n",
      "[CV] .......... C=1, gamma=0.1, kernel=rbf, score=0.773, total=   0.0s\n",
      "[CV] C=1, gamma=0.1, kernel=rbf ......................................\n",
      "[CV] .......... C=1, gamma=0.1, kernel=rbf, score=0.841, total=   0.0s\n",
      "[CV] C=1, gamma=0.1, kernel=rbf ......................................\n",
      "[CV] .......... C=1, gamma=0.1, kernel=rbf, score=0.852, total=   0.0s\n",
      "[CV] C=1, gamma=0.1, kernel=rbf ......................................\n",
      "[CV] .......... C=1, gamma=0.1, kernel=rbf, score=0.770, total=   0.0s\n",
      "[CV] C=1, gamma=0.1, kernel=rbf ......................................\n",
      "[CV] .......... C=1, gamma=0.1, kernel=rbf, score=0.897, total=   0.0s\n",
      "[CV] C=1, gamma=0.01, kernel=rbf .....................................\n",
      "[CV] ......... C=1, gamma=0.01, kernel=rbf, score=0.818, total=   0.0s\n",
      "[CV] C=1, gamma=0.01, kernel=rbf .....................................\n",
      "[CV] ......... C=1, gamma=0.01, kernel=rbf, score=0.898, total=   0.0s\n",
      "[CV] C=1, gamma=0.01, kernel=rbf .....................................\n",
      "[CV] ......... C=1, gamma=0.01, kernel=rbf, score=0.864, total=   0.0s\n",
      "[CV] C=1, gamma=0.01, kernel=rbf .....................................\n",
      "[CV] ......... C=1, gamma=0.01, kernel=rbf, score=0.770, total=   0.0s\n",
      "[CV] C=1, gamma=0.01, kernel=rbf .....................................\n",
      "[CV] ......... C=1, gamma=0.01, kernel=rbf, score=0.874, total=   0.0s\n",
      "[CV] C=1, gamma=0.001, kernel=rbf ....................................\n",
      "[CV] ........ C=1, gamma=0.001, kernel=rbf, score=0.739, total=   0.0s\n",
      "[CV] C=1, gamma=0.001, kernel=rbf ....................................\n",
      "[CV] ........ C=1, gamma=0.001, kernel=rbf, score=0.818, total=   0.0s\n",
      "[CV] C=1, gamma=0.001, kernel=rbf ....................................\n",
      "[CV] ........ C=1, gamma=0.001, kernel=rbf, score=0.625, total=   0.0s\n",
      "[CV] C=1, gamma=0.001, kernel=rbf ....................................\n",
      "[CV] ........ C=1, gamma=0.001, kernel=rbf, score=0.759, total=   0.0s\n",
      "[CV] C=1, gamma=0.001, kernel=rbf ....................................\n",
      "[CV] ........ C=1, gamma=0.001, kernel=rbf, score=0.828, total=   0.0s\n",
      "[CV] C=1, gamma=0.0001, kernel=rbf ...................................\n",
      "[CV] ....... C=1, gamma=0.0001, kernel=rbf, score=0.580, total=   0.0s\n",
      "[CV] C=1, gamma=0.0001, kernel=rbf ...................................\n",
      "[CV] ....... C=1, gamma=0.0001, kernel=rbf, score=0.580, total=   0.0s\n",
      "[CV] C=1, gamma=0.0001, kernel=rbf ...................................\n",
      "[CV] ....... C=1, gamma=0.0001, kernel=rbf, score=0.568, total=   0.1s\n",
      "[CV] C=1, gamma=0.0001, kernel=rbf ...................................\n",
      "[CV] ....... C=1, gamma=0.0001, kernel=rbf, score=0.575, total=   0.1s\n",
      "[CV] C=1, gamma=0.0001, kernel=rbf ...................................\n",
      "[CV] ....... C=1, gamma=0.0001, kernel=rbf, score=0.575, total=   0.1s\n",
      "[CV] C=10, gamma=1, kernel=rbf .......................................\n",
      "[CV] ........... C=10, gamma=1, kernel=rbf, score=0.716, total=   0.1s\n",
      "[CV] C=10, gamma=1, kernel=rbf .......................................\n",
      "[CV] ........... C=10, gamma=1, kernel=rbf, score=0.807, total=   0.1s\n",
      "[CV] C=10, gamma=1, kernel=rbf .......................................\n",
      "[CV] ........... C=10, gamma=1, kernel=rbf, score=0.773, total=   0.1s\n",
      "[CV] C=10, gamma=1, kernel=rbf .......................................\n",
      "[CV] ........... C=10, gamma=1, kernel=rbf, score=0.747, total=   0.1s\n",
      "[CV] C=10, gamma=1, kernel=rbf .......................................\n",
      "[CV] ........... C=10, gamma=1, kernel=rbf, score=0.793, total=   0.1s\n",
      "[CV] C=10, gamma=0.1, kernel=rbf .....................................\n",
      "[CV] ......... C=10, gamma=0.1, kernel=rbf, score=0.727, total=   0.1s\n",
      "[CV] C=10, gamma=0.1, kernel=rbf .....................................\n",
      "[CV] ......... C=10, gamma=0.1, kernel=rbf, score=0.852, total=   0.1s\n",
      "[CV] C=10, gamma=0.1, kernel=rbf .....................................\n",
      "[CV] ......... C=10, gamma=0.1, kernel=rbf, score=0.795, total=   0.1s\n",
      "[CV] C=10, gamma=0.1, kernel=rbf .....................................\n",
      "[CV] ......... C=10, gamma=0.1, kernel=rbf, score=0.759, total=   0.1s\n",
      "[CV] C=10, gamma=0.1, kernel=rbf .....................................\n",
      "[CV] ......... C=10, gamma=0.1, kernel=rbf, score=0.851, total=   0.0s\n",
      "[CV] C=10, gamma=0.01, kernel=rbf ....................................\n",
      "[CV] ........ C=10, gamma=0.01, kernel=rbf, score=0.818, total=   0.0s\n",
      "[CV] C=10, gamma=0.01, kernel=rbf ....................................\n",
      "[CV] ........ C=10, gamma=0.01, kernel=rbf, score=0.898, total=   0.0s\n",
      "[CV] C=10, gamma=0.01, kernel=rbf ....................................\n",
      "[CV] ........ C=10, gamma=0.01, kernel=rbf, score=0.864, total=   0.0s\n",
      "[CV] C=10, gamma=0.01, kernel=rbf ....................................\n",
      "[CV] ........ C=10, gamma=0.01, kernel=rbf, score=0.770, total=   0.0s\n",
      "[CV] C=10, gamma=0.01, kernel=rbf ....................................\n",
      "[CV] ........ C=10, gamma=0.01, kernel=rbf, score=0.874, total=   0.1s\n",
      "[CV] C=10, gamma=0.001, kernel=rbf ...................................\n",
      "[CV] ....... C=10, gamma=0.001, kernel=rbf, score=0.818, total=   0.0s\n",
      "[CV] C=10, gamma=0.001, kernel=rbf ...................................\n",
      "[CV] ....... C=10, gamma=0.001, kernel=rbf, score=0.898, total=   0.0s\n",
      "[CV] C=10, gamma=0.001, kernel=rbf ...................................\n",
      "[CV] ....... C=10, gamma=0.001, kernel=rbf, score=0.864, total=   0.0s\n",
      "[CV] C=10, gamma=0.001, kernel=rbf ...................................\n",
      "[CV] ....... C=10, gamma=0.001, kernel=rbf, score=0.770, total=   0.0s\n",
      "[CV] C=10, gamma=0.001, kernel=rbf ...................................\n",
      "[CV] ....... C=10, gamma=0.001, kernel=rbf, score=0.874, total=   0.0s\n",
      "[CV] C=10, gamma=0.0001, kernel=rbf ..................................\n",
      "[CV] ...... C=10, gamma=0.0001, kernel=rbf, score=0.750, total=   0.0s\n",
      "[CV] C=10, gamma=0.0001, kernel=rbf ..................................\n",
      "[CV] ...... C=10, gamma=0.0001, kernel=rbf, score=0.818, total=   0.0s\n",
      "[CV] C=10, gamma=0.0001, kernel=rbf ..................................\n",
      "[CV] ...... C=10, gamma=0.0001, kernel=rbf, score=0.625, total=   0.0s\n",
      "[CV] C=10, gamma=0.0001, kernel=rbf ..................................\n",
      "[CV] ...... C=10, gamma=0.0001, kernel=rbf, score=0.747, total=   0.0s\n",
      "[CV] C=10, gamma=0.0001, kernel=rbf ..................................\n",
      "[CV] ...... C=10, gamma=0.0001, kernel=rbf, score=0.839, total=   0.0s\n",
      "[CV] C=100, gamma=1, kernel=rbf ......................................\n",
      "[CV] .......... C=100, gamma=1, kernel=rbf, score=0.705, total=   0.1s\n",
      "[CV] C=100, gamma=1, kernel=rbf ......................................\n",
      "[CV] .......... C=100, gamma=1, kernel=rbf, score=0.807, total=   0.1s\n",
      "[CV] C=100, gamma=1, kernel=rbf ......................................\n",
      "[CV] .......... C=100, gamma=1, kernel=rbf, score=0.784, total=   0.1s\n",
      "[CV] C=100, gamma=1, kernel=rbf ......................................\n",
      "[CV] .......... C=100, gamma=1, kernel=rbf, score=0.747, total=   0.1s\n",
      "[CV] C=100, gamma=1, kernel=rbf ......................................\n",
      "[CV] .......... C=100, gamma=1, kernel=rbf, score=0.770, total=   0.1s\n",
      "[CV] C=100, gamma=0.1, kernel=rbf ....................................\n",
      "[CV] ........ C=100, gamma=0.1, kernel=rbf, score=0.727, total=   0.1s\n",
      "[CV] C=100, gamma=0.1, kernel=rbf ....................................\n",
      "[CV] ........ C=100, gamma=0.1, kernel=rbf, score=0.830, total=   0.1s\n",
      "[CV] C=100, gamma=0.1, kernel=rbf ....................................\n",
      "[CV] ........ C=100, gamma=0.1, kernel=rbf, score=0.818, total=   0.1s\n",
      "[CV] C=100, gamma=0.1, kernel=rbf ....................................\n",
      "[CV] ........ C=100, gamma=0.1, kernel=rbf, score=0.724, total=   0.1s\n",
      "[CV] C=100, gamma=0.1, kernel=rbf ....................................\n",
      "[CV] ........ C=100, gamma=0.1, kernel=rbf, score=0.851, total=   0.1s\n",
      "[CV] C=100, gamma=0.01, kernel=rbf ...................................\n",
      "[CV] ....... C=100, gamma=0.01, kernel=rbf, score=0.784, total=   0.1s\n",
      "[CV] C=100, gamma=0.01, kernel=rbf ...................................\n",
      "[CV] ....... C=100, gamma=0.01, kernel=rbf, score=0.841, total=   0.1s\n",
      "[CV] C=100, gamma=0.01, kernel=rbf ...................................\n",
      "[CV] ....... C=100, gamma=0.01, kernel=rbf, score=0.864, total=   0.1s\n",
      "[CV] C=100, gamma=0.01, kernel=rbf ...................................\n",
      "[CV] ....... C=100, gamma=0.01, kernel=rbf, score=0.770, total=   0.1s\n",
      "[CV] C=100, gamma=0.01, kernel=rbf ...................................\n",
      "[CV] ....... C=100, gamma=0.01, kernel=rbf, score=0.874, total=   0.1s\n",
      "[CV] C=100, gamma=0.001, kernel=rbf ..................................\n",
      "[CV] ...... C=100, gamma=0.001, kernel=rbf, score=0.818, total=   0.1s\n",
      "[CV] C=100, gamma=0.001, kernel=rbf ..................................\n",
      "[CV] ...... C=100, gamma=0.001, kernel=rbf, score=0.898, total=   0.1s\n",
      "[CV] C=100, gamma=0.001, kernel=rbf ..................................\n",
      "[CV] ...... C=100, gamma=0.001, kernel=rbf, score=0.864, total=   0.1s\n",
      "[CV] C=100, gamma=0.001, kernel=rbf ..................................\n",
      "[CV] ...... C=100, gamma=0.001, kernel=rbf, score=0.770, total=   0.1s\n",
      "[CV] C=100, gamma=0.001, kernel=rbf ..................................\n",
      "[CV] ...... C=100, gamma=0.001, kernel=rbf, score=0.874, total=   0.2s\n",
      "[CV] C=100, gamma=0.0001, kernel=rbf .................................\n",
      "[CV] ..... C=100, gamma=0.0001, kernel=rbf, score=0.818, total=   0.0s\n",
      "[CV] C=100, gamma=0.0001, kernel=rbf .................................\n",
      "[CV] ..... C=100, gamma=0.0001, kernel=rbf, score=0.898, total=   0.0s\n",
      "[CV] C=100, gamma=0.0001, kernel=rbf .................................\n",
      "[CV] ..... C=100, gamma=0.0001, kernel=rbf, score=0.864, total=   0.0s\n",
      "[CV] C=100, gamma=0.0001, kernel=rbf .................................\n",
      "[CV] ..... C=100, gamma=0.0001, kernel=rbf, score=0.770, total=   0.0s\n",
      "[CV] C=100, gamma=0.0001, kernel=rbf .................................\n",
      "[CV] ..... C=100, gamma=0.0001, kernel=rbf, score=0.874, total=   0.0s\n",
      "[CV] C=1000, gamma=1, kernel=rbf .....................................\n",
      "[CV] ......... C=1000, gamma=1, kernel=rbf, score=0.705, total=   0.1s\n",
      "[CV] C=1000, gamma=1, kernel=rbf .....................................\n",
      "[CV] ......... C=1000, gamma=1, kernel=rbf, score=0.807, total=   0.1s\n",
      "[CV] C=1000, gamma=1, kernel=rbf .....................................\n",
      "[CV] ......... C=1000, gamma=1, kernel=rbf, score=0.773, total=   0.2s\n",
      "[CV] C=1000, gamma=1, kernel=rbf .....................................\n",
      "[CV] ......... C=1000, gamma=1, kernel=rbf, score=0.713, total=   0.1s\n",
      "[CV] C=1000, gamma=1, kernel=rbf .....................................\n",
      "[CV] ......... C=1000, gamma=1, kernel=rbf, score=0.770, total=   0.1s\n",
      "[CV] C=1000, gamma=0.1, kernel=rbf ...................................\n",
      "[CV] ....... C=1000, gamma=0.1, kernel=rbf, score=0.705, total=   0.4s\n",
      "[CV] C=1000, gamma=0.1, kernel=rbf ...................................\n",
      "[CV] ....... C=1000, gamma=0.1, kernel=rbf, score=0.784, total=   0.3s\n",
      "[CV] C=1000, gamma=0.1, kernel=rbf ...................................\n",
      "[CV] ....... C=1000, gamma=0.1, kernel=rbf, score=0.795, total=   0.2s\n",
      "[CV] C=1000, gamma=0.1, kernel=rbf ...................................\n",
      "[CV] ....... C=1000, gamma=0.1, kernel=rbf, score=0.701, total=   0.2s\n",
      "[CV] C=1000, gamma=0.1, kernel=rbf ...................................\n",
      "[CV] ....... C=1000, gamma=0.1, kernel=rbf, score=0.793, total=   0.2s\n",
      "[CV] C=1000, gamma=0.01, kernel=rbf ..................................\n",
      "[CV] ...... C=1000, gamma=0.01, kernel=rbf, score=0.739, total=   0.3s\n",
      "[CV] C=1000, gamma=0.01, kernel=rbf ..................................\n",
      "[CV] ...... C=1000, gamma=0.01, kernel=rbf, score=0.841, total=   0.2s\n",
      "[CV] C=1000, gamma=0.01, kernel=rbf ..................................\n",
      "[CV] ...... C=1000, gamma=0.01, kernel=rbf, score=0.841, total=   0.4s\n",
      "[CV] C=1000, gamma=0.01, kernel=rbf ..................................\n",
      "[CV] ...... C=1000, gamma=0.01, kernel=rbf, score=0.770, total=   0.4s\n",
      "[CV] C=1000, gamma=0.01, kernel=rbf ..................................\n",
      "[CV] ...... C=1000, gamma=0.01, kernel=rbf, score=0.862, total=   0.3s\n",
      "[CV] C=1000, gamma=0.001, kernel=rbf .................................\n",
      "[CV] ..... C=1000, gamma=0.001, kernel=rbf, score=0.818, total=   0.1s\n",
      "[CV] C=1000, gamma=0.001, kernel=rbf .................................\n",
      "[CV] ..... C=1000, gamma=0.001, kernel=rbf, score=0.898, total=   0.1s\n",
      "[CV] C=1000, gamma=0.001, kernel=rbf .................................\n",
      "[CV] ..... C=1000, gamma=0.001, kernel=rbf, score=0.864, total=   0.4s\n",
      "[CV] C=1000, gamma=0.001, kernel=rbf .................................\n",
      "[CV] ..... C=1000, gamma=0.001, kernel=rbf, score=0.770, total=   0.3s\n",
      "[CV] C=1000, gamma=0.001, kernel=rbf .................................\n",
      "[CV] ..... C=1000, gamma=0.001, kernel=rbf, score=0.874, total=   0.2s\n",
      "[CV] C=1000, gamma=0.0001, kernel=rbf ................................\n",
      "[CV] .... C=1000, gamma=0.0001, kernel=rbf, score=0.818, total=   0.2s\n",
      "[CV] C=1000, gamma=0.0001, kernel=rbf ................................\n",
      "[CV] .... C=1000, gamma=0.0001, kernel=rbf, score=0.898, total=   0.2s\n",
      "[CV] C=1000, gamma=0.0001, kernel=rbf ................................\n",
      "[CV] .... C=1000, gamma=0.0001, kernel=rbf, score=0.864, total=   0.2s\n",
      "[CV] C=1000, gamma=0.0001, kernel=rbf ................................\n",
      "[CV] .... C=1000, gamma=0.0001, kernel=rbf, score=0.770, total=   0.2s\n",
      "[CV] C=1000, gamma=0.0001, kernel=rbf ................................\n",
      "[CV] .... C=1000, gamma=0.0001, kernel=rbf, score=0.874, total=   0.1s\n"
     ]
    },
    {
     "name": "stderr",
     "output_type": "stream",
     "text": [
      "[Parallel(n_jobs=1)]: Done 125 out of 125 | elapsed:   11.6s finished\n"
     ]
    },
    {
     "data": {
      "text/plain": [
       "GridSearchCV(estimator=SVC(probability=True),\n",
       "             param_grid={'C': [0.1, 1, 10, 100, 1000],\n",
       "                         'gamma': [1, 0.1, 0.01, 0.001, 0.0001],\n",
       "                         'kernel': ['rbf']},\n",
       "             verbose=3)"
      ]
     },
     "execution_count": 71,
     "metadata": {},
     "output_type": "execute_result"
    }
   ],
   "source": [
    "# defining parameter range\n",
    "param_grid = {'C': [0.1, 1, 10, 100, 1000], \n",
    "              'gamma': [1, 0.1, 0.01, 0.001, 0.0001],\n",
    "              'kernel': ['rbf']} \n",
    "  \n",
    "grid_svm = GridSearchCV(SVC(probability=True), param_grid, refit = True, verbose = 3)\n",
    "  \n",
    "# fitting the model for grid search\n",
    "grid_svm.fit(X_train, y_train)"
   ]
  },
  {
   "cell_type": "code",
   "execution_count": 72,
   "metadata": {},
   "outputs": [
    {
     "name": "stdout",
     "output_type": "stream",
     "text": [
      "{'C': 1, 'gamma': 0.01, 'kernel': 'rbf'}\n"
     ]
    }
   ],
   "source": [
    "# print best parameter after tuning\n",
    "print(grid_svm.best_params_)"
   ]
  },
  {
   "cell_type": "code",
   "execution_count": 73,
   "metadata": {},
   "outputs": [
    {
     "name": "stdout",
     "output_type": "stream",
     "text": [
      "              precision    recall  f1-score   support\n",
      "\n",
      "           0       0.89      0.81      0.85        21\n",
      "           1       0.87      0.93      0.90        28\n",
      "\n",
      "    accuracy                           0.88        49\n",
      "   macro avg       0.88      0.87      0.87        49\n",
      "weighted avg       0.88      0.88      0.88        49\n",
      "\n"
     ]
    }
   ],
   "source": [
    "#classification report after hyperparam tuning for SVM\n",
    "grid_predictions = grid_svm.predict(X_test)\n",
    "  \n",
    "# print classification report\n",
    "print(classification_report(y_test, grid_predictions))"
   ]
  },
  {
   "cell_type": "code",
   "execution_count": 74,
   "metadata": {},
   "outputs": [
    {
     "name": "stdout",
     "output_type": "stream",
     "text": [
      "ROC-AUC Score for SVM: 0.8503401360544218\n"
     ]
    }
   ],
   "source": [
    "#roc/auc curve for svm\n",
    "y_score_svm = grid_svm.predict_proba(X_test)\n",
    "y_score_svm = y_score_svm[:,1]\n",
    "rocauc_svm = roc_auc_score(y_test, y_score_svm)\n",
    "print(\"ROC-AUC Score for SVM:\", rocauc_svm)"
   ]
  },
  {
   "cell_type": "code",
   "execution_count": 75,
   "metadata": {},
   "outputs": [
    {
     "data": {
      "image/png": "[encoded data removed]",
      "text/plain": [
       "<Figure size 720x360 with 1 Axes>"
      ]
     },
     "metadata": {
      "needs_background": "light"
     },
     "output_type": "display_data"
    }
   ],
   "source": [
    "false_positive_rate, true_positive_rate, thresholds = roc_curve(y_test, y_score_svm)\n",
    "def plot_roc_curve(false_positive_rate, true_positive_rate, label=None):\n",
    "    plt.plot(false_positive_rate, true_positive_rate, linewidth=2, label=label)\n",
    "    plt.plot([0, 1], [0, 1], 'r', linewidth=4)\n",
    "    plt.axis([0, 1, 0, 1])\n",
    "    plt.xlabel('False Positive Rate (FPR)')\n",
    "    plt.ylabel('True Positive Rate (TPR)')\n",
    "    plt.title('Support Vector Machine (SVM) ROC Curve')\n",
    "\n",
    "plt.figure(figsize=(10, 5))\n",
    "plot_roc_curve(false_positive_rate, true_positive_rate)\n",
    "plt.show()"
   ]
  },
  {
   "cell_type": "code",
   "execution_count": 76,
   "metadata": {},
   "outputs": [
    {
     "name": "stdout",
     "output_type": "stream",
     "text": [
      "                  Features  Importance scores\n",
      "0                      Age          -0.000054\n",
      "1                   Female          -0.000044\n",
      "2                     Male          -0.000038\n",
      "3       interference_never          -0.000018\n",
      "4       interference_often          -0.000015\n",
      "5      interference_rarely          -0.000001\n",
      "6   interference_sometimes           0.000015\n",
      "7   ment_health_cons_maybe           0.000044\n",
      "8      ment_health_cons_no           0.000067\n",
      "9     ment_health_cons_yes           0.667926\n",
      "10       no_family history           0.728692\n",
      "11      family_history_yes           0.969176\n"
     ]
    }
   ],
   "source": [
    "#calculating importances for svm\n",
    "def f_importances(coef, names, top=-1):\n",
    "    imp = coef\n",
    "    imp, names = zip(*sorted(list(zip(imp, names))))\n",
    "    \n",
    "    # Show all features\n",
    "    if top == -1:\n",
    "        top = len(names)\n",
    "    \n",
    " \n",
    "    svm_imps = pd.DataFrame(list(zip(df.columns,imp)),columns =['Features', 'Importance scores'])\n",
    "    print(svm_imps)\n",
    "feature_names = df.columns\n",
    "svm_imp = SVC(kernel='linear')\n",
    "svm_imp.fit(X_train, y_train)\n",
    "svm_importances = f_importances((svm_imp.coef_[0]), feature_names, top=10)"
   ]
  },
  {
   "cell_type": "markdown",
   "metadata": {},
   "source": [
    "## Comparison after tuning Hyperparameters"
   ]
  },
  {
   "cell_type": "markdown",
   "metadata": {},
   "source": [
    "# Conclusion\n",
    "\n",
    "In the modeling portion of this project, I started by breaking down my data into training and testing sets based on whether or not the participant went to therapy. I used 7 modeling techniques and I have listed them below \n",
    "    1. Logistic Regression\n",
    "    2. Random Forest\n",
    "    3. Gradient Boost\n",
    "    4. K Nearest Neighbors\n",
    "    5. Support Vector Machines (SVM)\n",
    "    6. Naive Bayes\n",
    "    7. ADA Boost\n",
    "After completing each test, I analyzed the classification reports and saw that SVM and logistic regression had the best accuracy scores of 0.877551. In fact, both of their classification reports had equal values for f1 score, precision, accuracy, and recall. Since their values were very similar, I performed hyperparameter tuning on both of those models using GridSearchCV. After completing the gridsearch, the accuracy scores I got were 0.85 and 0.88 for Logistic Regression and SVM respectively. The model performance did not improve for SVM and there was a decline in performance for Logistic regression. The ROC-AUC score increased from about 0.87 to 0.90 for logistic regression and for SVM, it's ROC-AUC score went from about 0.87 to about 0.85.\n",
    "When comparing the feature importances of Logistic regression and SVM, they are quite different. The importance scores are close to 0 for all the features except if the participant feels like they would face mental health consequences and the family history data. Logistic regression is more balanced in its importance scores and had work interference as the most important feature as well as family history.\n",
    "Overall, I can conclude that the data can be modeled well if we use logistic regression or I could use SVM before or after hyperparameter tuning.\n",
    "After closely observing the tests, we can conclude that mental health interference and family history are the important features in deciding whether or not a person seeks therapy."
   ]
  }
 ],
 "metadata": {
  "kernelspec": {
   "display_name": "Python 3",
   "language": "python",
   "name": "python3"
  },
  "language_info": {
   "codemirror_mode": {
    "name": "ipython",
    "version": 3
   },
   "file_extension": ".py",
   "mimetype": "text/x-python",
   "name": "python",
   "nbconvert_exporter": "python",
   "pygments_lexer": "ipython3",
   "version": "3.8.3"
  }
 },
 "nbformat": 4,
 "nbformat_minor": 4
}
